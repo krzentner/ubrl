{
 "cells": [
  {
   "cell_type": "code",
   "execution_count": null,
   "id": "1a595bff-666f-4290-b449-70de8133b171",
   "metadata": {},
   "outputs": [],
   "source": [
    "import os\n",
    "import pickle\n",
    "from glob import glob\n",
    "from subprocess import run\n",
    "from pprint import pprint\n",
    "\n",
    "from tqdm.notebook import tqdm, trange\n",
    "\n",
    "import numpy as np\n",
    "import matplotlib.pyplot as plt\n",
    "import torch\n",
    "import torch.nn as nn\n",
    "import torch.nn.functional as F"
   ]
  },
  {
   "cell_type": "code",
   "execution_count": null,
   "id": "25470777-e41a-499d-a734-8fad878f982d",
   "metadata": {},
   "outputs": [],
   "source": [
    "RUN_DIR = os.environ.get('NOTEBOOK_RUN_DIR', 'runs/gym_example_2024-04-21T19:46:11.725273/')\n",
    "HEATMAP_SIZE = int(os.environ.get('NOTEBOOK_HEATMAP_SIZE', '64'))\n",
    "N_TRAIN_STEPS = int(os.environ.get('NOTEBOOK_N_TRAIN_STEPS', '1'))\n",
    "OUT_FILE = os.environ.get('NOTEBOOK_OUT_FILE', f'{RUN_DIR}/pendulum_1.webm')"
   ]
  },
  {
   "cell_type": "code",
   "execution_count": null,
   "id": "607476bb-066f-4c48-9439-4ace67ea77cc",
   "metadata": {},
   "outputs": [],
   "source": [
    "print(\"Looking for root dir\")\n",
    "while not glob('.git/'):\n",
    "    print(\"No git repo in\", os.getcwd())\n",
    "    os.chdir('..')\n",
    "print(\"Found git repo in\", os.getcwd())"
   ]
  },
  {
   "cell_type": "code",
   "execution_count": null,
   "id": "11464aef-838a-41f6-a804-30e995e97c5e",
   "metadata": {},
   "outputs": [],
   "source": [
    "import outrl\n",
    "from outrl.gym_utils import GymBoxAgent\n",
    "import examples.gym_example as gym_example"
   ]
  },
  {
   "cell_type": "code",
   "execution_count": null,
   "id": "110eba64-8970-41dc-8c46-3f3f7b8827d6",
   "metadata": {},
   "outputs": [],
   "source": [
    "frame = 0\n",
    "train_step = 1\n",
    "os.makedirs(\"plots/frames\", exist_ok=True)\n",
    "\n",
    "checkpoints = glob(f\"{RUN_DIR}/train_step_*.pkl\")\n",
    "with_idx = sorted([\n",
    "    (int(f_name.rsplit(\"_\", 1)[-1].split(\".\", 1)[0]), f_name)\n",
    "    for f_name in checkpoints\n",
    "])[-N_TRAIN_STEPS:]\n",
    "pprint(with_idx)\n",
    "for i, checkpoint_path in tqdm(with_idx):\n",
    "    with open(checkpoint_path, 'rb') as f:\n",
    "        data = pickle.load(f)\n",
    "    if len(data['_replay_buffer']) == 0:\n",
    "        continue\n",
    "    def obs_to_coord(obs):\n",
    "        assert len(obs.shape) == 2\n",
    "        assert obs.shape[0] == 3\n",
    "        theta = np.arctan2(raw_obs[:, 0], raw_obs[:, 1])\n",
    "        theta_norm = (HEATMAP_SIZE) * theta / (2 * np.pi)\n",
    "        ang_vel_norm = (HEATMAP_SIZE) * (raw_obs[:, 2] + 8.0) / 16.0\n",
    "        return theta_norm, ang_vel_norm\n",
    "    \n",
    "    obs_heatmap = np.zeros((HEATMAP_SIZE, HEATMAP_SIZE))\n",
    "    all_obs = np.stack([ep_data.episode['observations'] for ep_data in data['_replay_buffer']]).transpose(2, 0, 1)\n",
    "    \n",
    "    theta = np.arctan2(all_obs[0], all_obs[1])\n",
    "    theta_idx = np.floor((HEATMAP_SIZE - 1) * theta / (2 * np.pi)).astype(int).flatten()\n",
    "    ang_vel = all_obs[2]\n",
    "    ang_vel_idx = np.floor((HEATMAP_SIZE - 1) * (ang_vel + 8.0) / 16.0).astype(int).flatten()\n",
    "    for i, x in enumerate(theta_idx):\n",
    "        obs_heatmap[x,ang_vel_idx[i]] += 1\n",
    "        \n",
    "    cfg = gym_example.GymConfig.from_dict(data['cfg'])\n",
    "    actor = GymBoxAgent(\n",
    "        obs_size=3,\n",
    "        action_size=1,\n",
    "        hidden_sizes=cfg.encoder_hidden_sizes, \n",
    "        pi_hidden_sizes=cfg.pi_hidden_sizes, \n",
    "        init_std=cfg.init_std, \n",
    "        min_std=cfg.min_std)\n",
    "    \n",
    "    trainer = outrl.Trainer(cfg, actor)\n",
    "    trainer.load_state_dict(data)\n",
    "\n",
    "    train_inputs = trainer._preprocess()\n",
    "    vf_vals = np.stack([train_input.vf_returns for train_input in train_inputs])\n",
    "    advantages = np.stack([train_input.advantages for train_input in train_inputs])\n",
    "\n",
    "    d_ang_vel = ang_vel[:, 1:] - ang_vel[:, -1:]\n",
    "    d_theta = theta[:, 1:] - theta[:, -1:]\n",
    "\n",
    "    all_actions = np.stack([ep_data.episode['actions']\n",
    "                            for ep_data in data['_replay_buffer']]).transpose(2, 0, 1)\n",
    "\n",
    "    for t in trange(vf_vals.shape[1]):\n",
    "        plt.clf()\n",
    "        plt.imshow(np.log(obs_heatmap), extent=[-8, 8, -np.pi, np.pi,], aspect=16.0 / (2 * np.pi), cmap='Greys')\n",
    "        plt.scatter(ang_vel[:, t], theta[:, t], c=vf_vals[:, t])\n",
    "        plt.quiver(ang_vel[:, t], theta[:, t],\n",
    "                   all_actions[0, :, t], 0, advantages[:, t], width=0.01, cmap='plasma')\n",
    "        plt.savefig(f\"plots/frames/pendulum_frame={frame}.png\")\n",
    "        frame += 1"
   ]
  },
  {
   "cell_type": "code",
   "execution_count": null,
   "id": "48aaf800-ca7b-4cfa-9d21-09d68ce52958",
   "metadata": {},
   "outputs": [],
   "source": [
    "run(['ffmpeg', '-y', '-i', 'plots/frames/pendulum_frame=%d.png', OUT_FILE])"
   ]
  },
  {
   "cell_type": "code",
   "execution_count": null,
   "id": "89c608f6-1db8-4f51-9e1e-5935bece0faf",
   "metadata": {},
   "outputs": [],
   "source": []
  }
 ],
 "metadata": {
  "kernelspec": {
   "display_name": "Python 3 (ipykernel)",
   "language": "python",
   "name": "python3"
  },
  "language_info": {
   "codemirror_mode": {
    "name": "ipython",
    "version": 3
   },
   "file_extension": ".py",
   "mimetype": "text/x-python",
   "name": "python",
   "nbconvert_exporter": "python",
   "pygments_lexer": "ipython3",
   "version": "3.11.8"
  }
 },
 "nbformat": 4,
 "nbformat_minor": 5
}
